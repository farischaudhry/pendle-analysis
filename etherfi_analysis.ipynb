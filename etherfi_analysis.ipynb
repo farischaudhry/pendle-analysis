{
 "cells": [
  {
   "cell_type": "markdown",
   "metadata": {},
   "source": [
    "# An Analysis of Yield Tokenization and Arbitrage Opportunities for Liquid Restaking Tokens on Pendle\n",
    "\n",
    "- What are the drivers of the fixed yields? Is there a correlation between yields and the token price in which the reward are being distributed?\n",
    "- How correlated are each LRTs between each other?\n",
    "- How are the various tenors correlated?\n",
    "- Is there also a liquidity factor: i,e llliquid pools outperform? Why do some LRT offer more yield than others because that should not exist?\n",
    "- Are there any possible arbitrage strategies that can be created?"
   ]
  },
  {
   "cell_type": "code",
   "execution_count": 28,
   "metadata": {},
   "outputs": [],
   "source": [
    "import pandas as pd\n",
    "import numpy as np\n",
    "import matplotlib.pyplot as plt\n",
    "import seaborn as sns\n",
    "from utils import prepare_data, prepare_data_single\n",
    "from datetime import datetime, timedelta\n",
    "import plotly.graph_objects as go\n",
    "\n",
    "sns.set_style('whitegrid')\n",
    "\n",
    "# Expiry (maturity) and start dates\n",
    "expiry_date_jun = datetime(2024, 6, 27) # 27th June 2024\n",
    "start_date_jun = datetime(2024, 4, 14) # 14th April 2024\n",
    "\n",
    "expiry_date_sep = datetime(2024, 9, 26) # 26th September 2024\n",
    "start_date_sep = datetime(2024, 5, 14) # 14th May 2024\n",
    "\n",
    "expiry_date_dec = datetime(2024, 12, 26) # 26th December 2024\n",
    "start_date_dec = datetime(2024, 4, 14) # 14th April 2024\n",
    "\n",
    "# etherfi wETH file paths\n",
    "underlying_path = 'data/etherfi_wETH_ohlcv_data.csv'\n",
    "pt_jun_path = 'data/etherfi_wEth_Jun_pt_ohlcv_data.csv'\n",
    "yt_jun_path = 'data/etherfi_wEth_Jun_yt_ohlcv_data.csv'\n",
    "pt_sep_path = 'data/etherfi_wEth_Sep_pt_ohlcv_data.csv'\n",
    "yt_sep_path = 'data/etherfi_wEth_Sep_yt_ohlcv_data.csv'\n",
    "pt_dec_path = 'data/etherfi_wEth_Dec_pt_ohlcv_data.csv'\n",
    "yt_dec_path = 'data/etherfi_wEth_Dec_yt_ohlcv_data.csv'\n",
    "tvl_path = 'data/etherfi_wETH_tvl_data.csv'\n",
    "\n",
    "prices_df_jun = prepare_data('data/etherfi_wETH_ohlcv_data.csv', 'data/etherfi_wEth_Jun_pt_ohlcv_data.csv', 'data/etherfi_wEth_Jun_yt_ohlcv_data.csv')\n",
    "prices_df_sep = prepare_data('data/etherfi_wETH_ohlcv_data.csv', 'data/etherfi_wEth_Sep_pt_ohlcv_data.csv', 'data/etherfi_wEth_Sep_yt_ohlcv_data.csv')\n",
    "prices_df_dec = prepare_data('data/etherfi_wETH_ohlcv_data.csv', 'data/etherfi_wEth_Dec_pt_ohlcv_data.csv', 'data/etherfi_wEth_Dec_yt_ohlcv_data.csv')\n",
    "\n",
    "tvl_data = prepare_data_single('data/etherfi_wEth_tvl_data.csv')\n",
    "\n",
    "# Merge TVL data with each dataframe\n",
    "prices_df_jun = prices_df_jun.join(tvl_data, how='inner', rsuffix='_tvl')\n",
    "prices_df_sep = prices_df_sep.join(tvl_data, how='inner', rsuffix='_tvl')\n",
    "prices_df_dec = prices_df_dec.join(tvl_data, how='inner', rsuffix='_tvl')\n",
    "\n",
    "# Rename TVL column for clarity\n",
    "prices_df_jun.rename(columns={'open_tvl': 'tvl'}, inplace=True)\n",
    "prices_df_sep.rename(columns={'open_tvl': 'tvl'}, inplace=True)\n",
    "prices_df_dec.rename(columns={'open_tvl': 'tvl'}, inplace=True)\n",
    "\n",
    "# Truncate at start date\n",
    "prices_df_jun = prices_df_jun[prices_df_jun.index >= start_date_jun]\n",
    "prices_df_sep = prices_df_sep[prices_df_sep.index >= start_date_sep]\n",
    "prices_df_dec = prices_df_dec[prices_df_dec.index >= start_date_dec]"
   ]
  },
  {
   "cell_type": "code",
   "execution_count": 29,
   "metadata": {},
   "outputs": [
    {
     "data": {
      "text/html": [
       "<div>\n",
       "<style scoped>\n",
       "    .dataframe tbody tr th:only-of-type {\n",
       "        vertical-align: middle;\n",
       "    }\n",
       "\n",
       "    .dataframe tbody tr th {\n",
       "        vertical-align: top;\n",
       "    }\n",
       "\n",
       "    .dataframe thead th {\n",
       "        text-align: right;\n",
       "    }\n",
       "</style>\n",
       "<table border=\"1\" class=\"dataframe\">\n",
       "  <thead>\n",
       "    <tr style=\"text-align: right;\">\n",
       "      <th></th>\n",
       "      <th>pt_open</th>\n",
       "      <th>yt_open</th>\n",
       "      <th>underlying_open</th>\n",
       "      <th>tvl</th>\n",
       "      <th>days_to_expiry</th>\n",
       "      <th>pt_open_eth</th>\n",
       "      <th>yt_open_eth</th>\n",
       "      <th>implied_apy_eth</th>\n",
       "      <th>implied_apy_usd</th>\n",
       "      <th>maturity</th>\n",
       "      <th>date_ordinal</th>\n",
       "    </tr>\n",
       "    <tr>\n",
       "      <th>time</th>\n",
       "      <th></th>\n",
       "      <th></th>\n",
       "      <th></th>\n",
       "      <th></th>\n",
       "      <th></th>\n",
       "      <th></th>\n",
       "      <th></th>\n",
       "      <th></th>\n",
       "      <th></th>\n",
       "      <th></th>\n",
       "      <th></th>\n",
       "    </tr>\n",
       "  </thead>\n",
       "  <tbody>\n",
       "    <tr>\n",
       "      <th>2024-04-14</th>\n",
       "      <td>2817.0656</td>\n",
       "      <td>179.6897</td>\n",
       "      <td>3027.429932</td>\n",
       "      <td>3.281548e+09</td>\n",
       "      <td>74</td>\n",
       "      <td>0.930514</td>\n",
       "      <td>0.059354</td>\n",
       "      <td>0.356617</td>\n",
       "      <td>0.356617</td>\n",
       "      <td>Jun</td>\n",
       "      <td>738990</td>\n",
       "    </tr>\n",
       "    <tr>\n",
       "      <th>2024-04-15</th>\n",
       "      <td>2949.7946</td>\n",
       "      <td>208.5048</td>\n",
       "      <td>3159.802490</td>\n",
       "      <td>3.539216e+09</td>\n",
       "      <td>73</td>\n",
       "      <td>0.933538</td>\n",
       "      <td>0.065987</td>\n",
       "      <td>0.407044</td>\n",
       "      <td>0.407044</td>\n",
       "      <td>Jun</td>\n",
       "      <td>738991</td>\n",
       "    </tr>\n",
       "    <tr>\n",
       "      <th>2024-04-16</th>\n",
       "      <td>2900.7174</td>\n",
       "      <td>195.8079</td>\n",
       "      <td>3104.504639</td>\n",
       "      <td>3.524815e+09</td>\n",
       "      <td>72</td>\n",
       "      <td>0.934358</td>\n",
       "      <td>0.063072</td>\n",
       "      <td>0.392567</td>\n",
       "      <td>0.392567</td>\n",
       "      <td>Jun</td>\n",
       "      <td>738992</td>\n",
       "    </tr>\n",
       "    <tr>\n",
       "      <th>2024-04-17</th>\n",
       "      <td>2903.2954</td>\n",
       "      <td>176.8767</td>\n",
       "      <td>3089.008545</td>\n",
       "      <td>3.518701e+09</td>\n",
       "      <td>71</td>\n",
       "      <td>0.939879</td>\n",
       "      <td>0.057260</td>\n",
       "      <td>0.355302</td>\n",
       "      <td>0.355302</td>\n",
       "      <td>Jun</td>\n",
       "      <td>738993</td>\n",
       "    </tr>\n",
       "    <tr>\n",
       "      <th>2024-04-18</th>\n",
       "      <td>2810.2686</td>\n",
       "      <td>169.1899</td>\n",
       "      <td>2989.874268</td>\n",
       "      <td>3.419059e+09</td>\n",
       "      <td>70</td>\n",
       "      <td>0.939929</td>\n",
       "      <td>0.056588</td>\n",
       "      <td>0.356401</td>\n",
       "      <td>0.356401</td>\n",
       "      <td>Jun</td>\n",
       "      <td>738994</td>\n",
       "    </tr>\n",
       "    <tr>\n",
       "      <th>...</th>\n",
       "      <td>...</td>\n",
       "      <td>...</td>\n",
       "      <td>...</td>\n",
       "      <td>...</td>\n",
       "      <td>...</td>\n",
       "      <td>...</td>\n",
       "      <td>...</td>\n",
       "      <td>...</td>\n",
       "      <td>...</td>\n",
       "      <td>...</td>\n",
       "      <td>...</td>\n",
       "    </tr>\n",
       "    <tr>\n",
       "      <th>2024-06-04</th>\n",
       "      <td>3490.3478</td>\n",
       "      <td>272.7769</td>\n",
       "      <td>3770.321045</td>\n",
       "      <td>6.114568e+09</td>\n",
       "      <td>205</td>\n",
       "      <td>0.925743</td>\n",
       "      <td>0.072348</td>\n",
       "      <td>0.143368</td>\n",
       "      <td>0.143368</td>\n",
       "      <td>Dec</td>\n",
       "      <td>739041</td>\n",
       "    </tr>\n",
       "    <tr>\n",
       "      <th>2024-06-05</th>\n",
       "      <td>3565.8656</td>\n",
       "      <td>255.1665</td>\n",
       "      <td>3812.908936</td>\n",
       "      <td>6.377746e+09</td>\n",
       "      <td>204</td>\n",
       "      <td>0.935209</td>\n",
       "      <td>0.066922</td>\n",
       "      <td>0.131630</td>\n",
       "      <td>0.131630</td>\n",
       "      <td>Dec</td>\n",
       "      <td>739042</td>\n",
       "    </tr>\n",
       "    <tr>\n",
       "      <th>2024-06-06</th>\n",
       "      <td>3589.7621</td>\n",
       "      <td>269.4118</td>\n",
       "      <td>3859.197021</td>\n",
       "      <td>6.485312e+09</td>\n",
       "      <td>203</td>\n",
       "      <td>0.930184</td>\n",
       "      <td>0.069810</td>\n",
       "      <td>0.138963</td>\n",
       "      <td>0.138963</td>\n",
       "      <td>Dec</td>\n",
       "      <td>739043</td>\n",
       "    </tr>\n",
       "    <tr>\n",
       "      <th>2024-06-07</th>\n",
       "      <td>3583.9215</td>\n",
       "      <td>220.5494</td>\n",
       "      <td>3808.525146</td>\n",
       "      <td>6.441920e+09</td>\n",
       "      <td>202</td>\n",
       "      <td>0.941026</td>\n",
       "      <td>0.057909</td>\n",
       "      <td>0.113946</td>\n",
       "      <td>0.113946</td>\n",
       "      <td>Dec</td>\n",
       "      <td>739044</td>\n",
       "    </tr>\n",
       "    <tr>\n",
       "      <th>2024-06-08</th>\n",
       "      <td>3477.8552</td>\n",
       "      <td>203.7567</td>\n",
       "      <td>3684.772705</td>\n",
       "      <td>6.381157e+09</td>\n",
       "      <td>201</td>\n",
       "      <td>0.943845</td>\n",
       "      <td>0.055297</td>\n",
       "      <td>0.108923</td>\n",
       "      <td>0.108923</td>\n",
       "      <td>Dec</td>\n",
       "      <td>739045</td>\n",
       "    </tr>\n",
       "  </tbody>\n",
       "</table>\n",
       "<p>138 rows × 11 columns</p>\n",
       "</div>"
      ],
      "text/plain": [
       "              pt_open   yt_open  underlying_open           tvl  \\\n",
       "time                                                             \n",
       "2024-04-14  2817.0656  179.6897      3027.429932  3.281548e+09   \n",
       "2024-04-15  2949.7946  208.5048      3159.802490  3.539216e+09   \n",
       "2024-04-16  2900.7174  195.8079      3104.504639  3.524815e+09   \n",
       "2024-04-17  2903.2954  176.8767      3089.008545  3.518701e+09   \n",
       "2024-04-18  2810.2686  169.1899      2989.874268  3.419059e+09   \n",
       "...               ...       ...              ...           ...   \n",
       "2024-06-04  3490.3478  272.7769      3770.321045  6.114568e+09   \n",
       "2024-06-05  3565.8656  255.1665      3812.908936  6.377746e+09   \n",
       "2024-06-06  3589.7621  269.4118      3859.197021  6.485312e+09   \n",
       "2024-06-07  3583.9215  220.5494      3808.525146  6.441920e+09   \n",
       "2024-06-08  3477.8552  203.7567      3684.772705  6.381157e+09   \n",
       "\n",
       "            days_to_expiry  pt_open_eth  yt_open_eth  implied_apy_eth  \\\n",
       "time                                                                    \n",
       "2024-04-14              74     0.930514     0.059354         0.356617   \n",
       "2024-04-15              73     0.933538     0.065987         0.407044   \n",
       "2024-04-16              72     0.934358     0.063072         0.392567   \n",
       "2024-04-17              71     0.939879     0.057260         0.355302   \n",
       "2024-04-18              70     0.939929     0.056588         0.356401   \n",
       "...                    ...          ...          ...              ...   \n",
       "2024-06-04             205     0.925743     0.072348         0.143368   \n",
       "2024-06-05             204     0.935209     0.066922         0.131630   \n",
       "2024-06-06             203     0.930184     0.069810         0.138963   \n",
       "2024-06-07             202     0.941026     0.057909         0.113946   \n",
       "2024-06-08             201     0.943845     0.055297         0.108923   \n",
       "\n",
       "            implied_apy_usd maturity  date_ordinal  \n",
       "time                                                \n",
       "2024-04-14         0.356617      Jun        738990  \n",
       "2024-04-15         0.407044      Jun        738991  \n",
       "2024-04-16         0.392567      Jun        738992  \n",
       "2024-04-17         0.355302      Jun        738993  \n",
       "2024-04-18         0.356401      Jun        738994  \n",
       "...                     ...      ...           ...  \n",
       "2024-06-04         0.143368      Dec        739041  \n",
       "2024-06-05         0.131630      Dec        739042  \n",
       "2024-06-06         0.138963      Dec        739043  \n",
       "2024-06-07         0.113946      Dec        739044  \n",
       "2024-06-08         0.108923      Dec        739045  \n",
       "\n",
       "[138 rows x 11 columns]"
      ]
     },
     "execution_count": 29,
     "metadata": {},
     "output_type": "execute_result"
    }
   ],
   "source": [
    "import pandas as pd\n",
    "import numpy as np\n",
    "import matplotlib.pyplot as plt\n",
    "import seaborn as sns\n",
    "from sklearn.decomposition import PCA\n",
    "from sklearn.preprocessing import StandardScaler\n",
    "from datetime import datetime\n",
    "from utils import prepare_data\n",
    "\n",
    "sns.set_style('whitegrid')\n",
    "\n",
    "def calculate_implied_apy(prices_df, expiry_date):\n",
    "    # Calculate the remaining days to expiry\n",
    "    prices_df['days_to_expiry'] = (expiry_date - prices_df.index).days\n",
    "\n",
    "    # Convert PT and YT prices from USD to ETH using the underlying price\n",
    "    prices_df['pt_open_eth'] = prices_df['pt_open'] / prices_df['underlying_open']\n",
    "    prices_df['yt_open_eth'] = prices_df['yt_open'] / prices_df['underlying_open']\n",
    "\n",
    "    # Calculate the implied APY using ETH prices\n",
    "    prices_df['implied_apy_eth'] = (1 + prices_df['yt_open_eth'] / prices_df['pt_open_eth']) ** (365 / prices_df['days_to_expiry']) - 1\n",
    "    prices_df['implied_apy_usd'] = (1 + prices_df['yt_open'] / prices_df['pt_open']) ** (365 / prices_df['days_to_expiry']) - 1\n",
    "\n",
    "    return prices_df\n",
    "\n",
    "# Calculate the implied APYs\n",
    "prices_df_jun = calculate_implied_apy(prices_df_jun, expiry_date_jun)\n",
    "prices_df_sep = calculate_implied_apy(prices_df_sep, expiry_date_sep)\n",
    "prices_df_dec = calculate_implied_apy(prices_df_dec, expiry_date_dec)\n",
    "\n",
    "# Combine dataframes\n",
    "combined_df = pd.concat([prices_df_jun.assign(maturity='Jun'),\n",
    "                         prices_df_sep.assign(maturity='Sep'),\n",
    "                         prices_df_dec.assign(maturity='Dec'),],)\n",
    "\n",
    "# Convert dates to ordinal for PCA\n",
    "combined_df['date_ordinal'] = combined_df.index.map(datetime.toordinal)\n",
    "\n",
    "combined_df\n"
   ]
  },
  {
   "cell_type": "code",
   "execution_count": 30,
   "metadata": {},
   "outputs": [
    {
     "data": {
      "application/vnd.plotly.v1+json": {
       "config": {
        "plotlyServerURL": "https://plot.ly"
       },
       "data": [
        {
         "mode": "lines",
         "name": "Jun",
         "type": "scatter",
         "x": [
          "2024-04-14T00:00:00",
          "2024-04-15T00:00:00",
          "2024-04-16T00:00:00",
          "2024-04-17T00:00:00",
          "2024-04-18T00:00:00",
          "2024-04-19T00:00:00",
          "2024-04-20T00:00:00",
          "2024-04-21T00:00:00",
          "2024-04-22T00:00:00",
          "2024-04-23T00:00:00",
          "2024-04-24T00:00:00",
          "2024-04-25T00:00:00",
          "2024-04-26T00:00:00",
          "2024-04-27T00:00:00",
          "2024-04-28T00:00:00",
          "2024-04-29T00:00:00",
          "2024-04-30T00:00:00",
          "2024-05-01T00:00:00",
          "2024-05-02T00:00:00",
          "2024-05-03T00:00:00",
          "2024-05-04T00:00:00",
          "2024-05-05T00:00:00",
          "2024-05-06T00:00:00",
          "2024-05-07T00:00:00",
          "2024-05-08T00:00:00",
          "2024-05-09T00:00:00",
          "2024-05-10T00:00:00",
          "2024-05-11T00:00:00",
          "2024-05-12T00:00:00",
          "2024-05-13T00:00:00",
          "2024-05-14T00:00:00",
          "2024-05-15T00:00:00",
          "2024-05-16T00:00:00",
          "2024-05-17T00:00:00",
          "2024-05-18T00:00:00",
          "2024-05-19T00:00:00",
          "2024-05-20T00:00:00",
          "2024-05-21T00:00:00",
          "2024-05-22T00:00:00",
          "2024-05-23T00:00:00",
          "2024-05-24T00:00:00",
          "2024-05-25T00:00:00",
          "2024-05-26T00:00:00",
          "2024-05-27T00:00:00",
          "2024-05-28T00:00:00",
          "2024-05-29T00:00:00",
          "2024-05-30T00:00:00",
          "2024-05-31T00:00:00",
          "2024-06-01T00:00:00",
          "2024-06-02T00:00:00",
          "2024-06-03T00:00:00",
          "2024-06-04T00:00:00",
          "2024-06-05T00:00:00",
          "2024-06-06T00:00:00",
          "2024-06-07T00:00:00",
          "2024-06-08T00:00:00"
         ],
         "y": [
          0.35661660149953045,
          0.4070437706490422,
          0.39256715432022404,
          0.35530242118772404,
          0.35640117679772554,
          0.3664015852340403,
          0.3747569959897008,
          0.3706122747125784,
          0.36778885753066315,
          0.3485652512229964,
          0.3350420276264079,
          0.33249251353507847,
          0.325793245840331,
          0.31018408652118534,
          0.3081026871947743,
          0.3093436358808892,
          0.245527542504008,
          0.26603938828581364,
          0.24888126543386035,
          0.2434862174068766,
          0.23918860498660832,
          0.2379848508047948,
          0.23685895518720224,
          0.25208445597532236,
          0.24994439935489887,
          0.2361027695363047,
          0.23287041294943944,
          0.23932036490012432,
          0.23150201544452886,
          0.24082417220323138,
          0.2342451534463501,
          0.23511708711802215,
          0.21819641312681948,
          0.21245690224588065,
          0.20642020825847385,
          0.22107350745342025,
          0.21080490844006383,
          0.22042562160456258,
          0.21929216994655287,
          0.20693363279641397,
          0.22456608300778513,
          0.21211035923984922,
          0.20701957391648773,
          0.22506764698488868,
          0.23767944999593427,
          0.23434575333444418,
          0.22373041240042313,
          0.21982659736941534,
          0.22480829283988313,
          0.21830444928267534,
          0.22291023058180803,
          0.21659996496937173,
          0.1993460214378977,
          0.19590238397416648,
          0.19930315776680496,
          0.19369162684805463
         ]
        },
        {
         "mode": "lines",
         "name": "Sep",
         "type": "scatter",
         "x": [
          "2024-05-14T00:00:00",
          "2024-05-15T00:00:00",
          "2024-05-16T00:00:00",
          "2024-05-17T00:00:00",
          "2024-05-18T00:00:00",
          "2024-05-19T00:00:00",
          "2024-05-20T00:00:00",
          "2024-05-21T00:00:00",
          "2024-05-22T00:00:00",
          "2024-05-23T00:00:00",
          "2024-05-24T00:00:00",
          "2024-05-25T00:00:00",
          "2024-05-26T00:00:00",
          "2024-05-27T00:00:00",
          "2024-05-28T00:00:00",
          "2024-05-29T00:00:00",
          "2024-05-30T00:00:00",
          "2024-05-31T00:00:00",
          "2024-06-01T00:00:00",
          "2024-06-02T00:00:00",
          "2024-06-03T00:00:00",
          "2024-06-04T00:00:00",
          "2024-06-05T00:00:00",
          "2024-06-06T00:00:00",
          "2024-06-07T00:00:00",
          "2024-06-08T00:00:00"
         ],
         "y": [
          0.34764982181715065,
          0.3483158989451567,
          0.12363628919542968,
          0.12367087190334547,
          0.15416873741028758,
          0.15243128134696948,
          0.13138605446474383,
          0.15414459007560222,
          0.14566541214995588,
          0.14770725650171634,
          0.1305412971653499,
          0.13431251469895455,
          0.1417249233967368,
          0.1380628933015935,
          0.13231106349324495,
          0.13334866348286445,
          0.13134965078157457,
          0.14069885364516033,
          0.14514716685431717,
          0.14403235005911652,
          0.14388986053170227,
          0.13866702279569232,
          0.1308991155243553,
          0.12740689858795795,
          0.112188215482526,
          0.10398221881102909
         ]
        },
        {
         "mode": "lines",
         "name": "Dec",
         "type": "scatter",
         "x": [
          "2024-04-14T00:00:00",
          "2024-04-15T00:00:00",
          "2024-04-16T00:00:00",
          "2024-04-17T00:00:00",
          "2024-04-18T00:00:00",
          "2024-04-19T00:00:00",
          "2024-04-20T00:00:00",
          "2024-04-21T00:00:00",
          "2024-04-22T00:00:00",
          "2024-04-23T00:00:00",
          "2024-04-24T00:00:00",
          "2024-04-25T00:00:00",
          "2024-04-26T00:00:00",
          "2024-04-27T00:00:00",
          "2024-04-28T00:00:00",
          "2024-04-29T00:00:00",
          "2024-04-30T00:00:00",
          "2024-05-01T00:00:00",
          "2024-05-02T00:00:00",
          "2024-05-03T00:00:00",
          "2024-05-04T00:00:00",
          "2024-05-05T00:00:00",
          "2024-05-06T00:00:00",
          "2024-05-07T00:00:00",
          "2024-05-08T00:00:00",
          "2024-05-09T00:00:00",
          "2024-05-10T00:00:00",
          "2024-05-11T00:00:00",
          "2024-05-12T00:00:00",
          "2024-05-13T00:00:00",
          "2024-05-14T00:00:00",
          "2024-05-15T00:00:00",
          "2024-05-16T00:00:00",
          "2024-05-17T00:00:00",
          "2024-05-18T00:00:00",
          "2024-05-19T00:00:00",
          "2024-05-20T00:00:00",
          "2024-05-21T00:00:00",
          "2024-05-22T00:00:00",
          "2024-05-23T00:00:00",
          "2024-05-24T00:00:00",
          "2024-05-25T00:00:00",
          "2024-05-26T00:00:00",
          "2024-05-27T00:00:00",
          "2024-05-28T00:00:00",
          "2024-05-29T00:00:00",
          "2024-05-30T00:00:00",
          "2024-05-31T00:00:00",
          "2024-06-01T00:00:00",
          "2024-06-02T00:00:00",
          "2024-06-03T00:00:00",
          "2024-06-04T00:00:00",
          "2024-06-05T00:00:00",
          "2024-06-06T00:00:00",
          "2024-06-07T00:00:00",
          "2024-06-08T00:00:00"
         ],
         "y": [
          0.5019891665433882,
          0.5019891217953762,
          0.3994331554184467,
          0.33301350297775967,
          0.2944537715837987,
          0.23903630651046037,
          0.25131039660352816,
          0.27745371342668346,
          0.2749452479008774,
          0.24094064308471097,
          0.27412658067885376,
          0.22309188588710738,
          0.25351624728019506,
          0.24813517457827805,
          0.23595179810955869,
          0.23922530247005303,
          0.1873141065736672,
          0.19316926355748,
          0.17540277279880656,
          0.1765334593702863,
          0.15894606851950543,
          0.17528862963901148,
          0.16955782515950313,
          0.15506542278722324,
          0.16800467402839847,
          0.16124036632862837,
          0.16313264753268797,
          0.1559278253127323,
          0.150808014205988,
          0.14941161066982378,
          0.1617359978143167,
          0.15353598016336956,
          0.15673259124675343,
          0.15559249599962555,
          0.1550096128026872,
          0.15894955761738916,
          0.15826454554652503,
          0.170490419706681,
          0.1740887716969437,
          0.1668033178304178,
          0.16155857963208176,
          0.1647471631420605,
          0.14194333966676553,
          0.14383229170480205,
          0.14566616710294,
          0.15364932918945073,
          0.1421034030574999,
          0.15243926830401788,
          0.14939150877468177,
          0.14616570617402025,
          0.14476513671737767,
          0.1433683661847862,
          0.1316303580352569,
          0.1389632130385534,
          0.11394603838576711,
          0.10892295036084909
         ]
        }
       ],
       "layout": {
        "template": {
         "data": {
          "bar": [
           {
            "error_x": {
             "color": "#2a3f5f"
            },
            "error_y": {
             "color": "#2a3f5f"
            },
            "marker": {
             "line": {
              "color": "#E5ECF6",
              "width": 0.5
             },
             "pattern": {
              "fillmode": "overlay",
              "size": 10,
              "solidity": 0.2
             }
            },
            "type": "bar"
           }
          ],
          "barpolar": [
           {
            "marker": {
             "line": {
              "color": "#E5ECF6",
              "width": 0.5
             },
             "pattern": {
              "fillmode": "overlay",
              "size": 10,
              "solidity": 0.2
             }
            },
            "type": "barpolar"
           }
          ],
          "carpet": [
           {
            "aaxis": {
             "endlinecolor": "#2a3f5f",
             "gridcolor": "white",
             "linecolor": "white",
             "minorgridcolor": "white",
             "startlinecolor": "#2a3f5f"
            },
            "baxis": {
             "endlinecolor": "#2a3f5f",
             "gridcolor": "white",
             "linecolor": "white",
             "minorgridcolor": "white",
             "startlinecolor": "#2a3f5f"
            },
            "type": "carpet"
           }
          ],
          "choropleth": [
           {
            "colorbar": {
             "outlinewidth": 0,
             "ticks": ""
            },
            "type": "choropleth"
           }
          ],
          "contour": [
           {
            "colorbar": {
             "outlinewidth": 0,
             "ticks": ""
            },
            "colorscale": [
             [
              0,
              "#0d0887"
             ],
             [
              0.1111111111111111,
              "#46039f"
             ],
             [
              0.2222222222222222,
              "#7201a8"
             ],
             [
              0.3333333333333333,
              "#9c179e"
             ],
             [
              0.4444444444444444,
              "#bd3786"
             ],
             [
              0.5555555555555556,
              "#d8576b"
             ],
             [
              0.6666666666666666,
              "#ed7953"
             ],
             [
              0.7777777777777778,
              "#fb9f3a"
             ],
             [
              0.8888888888888888,
              "#fdca26"
             ],
             [
              1,
              "#f0f921"
             ]
            ],
            "type": "contour"
           }
          ],
          "contourcarpet": [
           {
            "colorbar": {
             "outlinewidth": 0,
             "ticks": ""
            },
            "type": "contourcarpet"
           }
          ],
          "heatmap": [
           {
            "colorbar": {
             "outlinewidth": 0,
             "ticks": ""
            },
            "colorscale": [
             [
              0,
              "#0d0887"
             ],
             [
              0.1111111111111111,
              "#46039f"
             ],
             [
              0.2222222222222222,
              "#7201a8"
             ],
             [
              0.3333333333333333,
              "#9c179e"
             ],
             [
              0.4444444444444444,
              "#bd3786"
             ],
             [
              0.5555555555555556,
              "#d8576b"
             ],
             [
              0.6666666666666666,
              "#ed7953"
             ],
             [
              0.7777777777777778,
              "#fb9f3a"
             ],
             [
              0.8888888888888888,
              "#fdca26"
             ],
             [
              1,
              "#f0f921"
             ]
            ],
            "type": "heatmap"
           }
          ],
          "heatmapgl": [
           {
            "colorbar": {
             "outlinewidth": 0,
             "ticks": ""
            },
            "colorscale": [
             [
              0,
              "#0d0887"
             ],
             [
              0.1111111111111111,
              "#46039f"
             ],
             [
              0.2222222222222222,
              "#7201a8"
             ],
             [
              0.3333333333333333,
              "#9c179e"
             ],
             [
              0.4444444444444444,
              "#bd3786"
             ],
             [
              0.5555555555555556,
              "#d8576b"
             ],
             [
              0.6666666666666666,
              "#ed7953"
             ],
             [
              0.7777777777777778,
              "#fb9f3a"
             ],
             [
              0.8888888888888888,
              "#fdca26"
             ],
             [
              1,
              "#f0f921"
             ]
            ],
            "type": "heatmapgl"
           }
          ],
          "histogram": [
           {
            "marker": {
             "pattern": {
              "fillmode": "overlay",
              "size": 10,
              "solidity": 0.2
             }
            },
            "type": "histogram"
           }
          ],
          "histogram2d": [
           {
            "colorbar": {
             "outlinewidth": 0,
             "ticks": ""
            },
            "colorscale": [
             [
              0,
              "#0d0887"
             ],
             [
              0.1111111111111111,
              "#46039f"
             ],
             [
              0.2222222222222222,
              "#7201a8"
             ],
             [
              0.3333333333333333,
              "#9c179e"
             ],
             [
              0.4444444444444444,
              "#bd3786"
             ],
             [
              0.5555555555555556,
              "#d8576b"
             ],
             [
              0.6666666666666666,
              "#ed7953"
             ],
             [
              0.7777777777777778,
              "#fb9f3a"
             ],
             [
              0.8888888888888888,
              "#fdca26"
             ],
             [
              1,
              "#f0f921"
             ]
            ],
            "type": "histogram2d"
           }
          ],
          "histogram2dcontour": [
           {
            "colorbar": {
             "outlinewidth": 0,
             "ticks": ""
            },
            "colorscale": [
             [
              0,
              "#0d0887"
             ],
             [
              0.1111111111111111,
              "#46039f"
             ],
             [
              0.2222222222222222,
              "#7201a8"
             ],
             [
              0.3333333333333333,
              "#9c179e"
             ],
             [
              0.4444444444444444,
              "#bd3786"
             ],
             [
              0.5555555555555556,
              "#d8576b"
             ],
             [
              0.6666666666666666,
              "#ed7953"
             ],
             [
              0.7777777777777778,
              "#fb9f3a"
             ],
             [
              0.8888888888888888,
              "#fdca26"
             ],
             [
              1,
              "#f0f921"
             ]
            ],
            "type": "histogram2dcontour"
           }
          ],
          "mesh3d": [
           {
            "colorbar": {
             "outlinewidth": 0,
             "ticks": ""
            },
            "type": "mesh3d"
           }
          ],
          "parcoords": [
           {
            "line": {
             "colorbar": {
              "outlinewidth": 0,
              "ticks": ""
             }
            },
            "type": "parcoords"
           }
          ],
          "pie": [
           {
            "automargin": true,
            "type": "pie"
           }
          ],
          "scatter": [
           {
            "fillpattern": {
             "fillmode": "overlay",
             "size": 10,
             "solidity": 0.2
            },
            "type": "scatter"
           }
          ],
          "scatter3d": [
           {
            "line": {
             "colorbar": {
              "outlinewidth": 0,
              "ticks": ""
             }
            },
            "marker": {
             "colorbar": {
              "outlinewidth": 0,
              "ticks": ""
             }
            },
            "type": "scatter3d"
           }
          ],
          "scattercarpet": [
           {
            "marker": {
             "colorbar": {
              "outlinewidth": 0,
              "ticks": ""
             }
            },
            "type": "scattercarpet"
           }
          ],
          "scattergeo": [
           {
            "marker": {
             "colorbar": {
              "outlinewidth": 0,
              "ticks": ""
             }
            },
            "type": "scattergeo"
           }
          ],
          "scattergl": [
           {
            "marker": {
             "colorbar": {
              "outlinewidth": 0,
              "ticks": ""
             }
            },
            "type": "scattergl"
           }
          ],
          "scattermapbox": [
           {
            "marker": {
             "colorbar": {
              "outlinewidth": 0,
              "ticks": ""
             }
            },
            "type": "scattermapbox"
           }
          ],
          "scatterpolar": [
           {
            "marker": {
             "colorbar": {
              "outlinewidth": 0,
              "ticks": ""
             }
            },
            "type": "scatterpolar"
           }
          ],
          "scatterpolargl": [
           {
            "marker": {
             "colorbar": {
              "outlinewidth": 0,
              "ticks": ""
             }
            },
            "type": "scatterpolargl"
           }
          ],
          "scatterternary": [
           {
            "marker": {
             "colorbar": {
              "outlinewidth": 0,
              "ticks": ""
             }
            },
            "type": "scatterternary"
           }
          ],
          "surface": [
           {
            "colorbar": {
             "outlinewidth": 0,
             "ticks": ""
            },
            "colorscale": [
             [
              0,
              "#0d0887"
             ],
             [
              0.1111111111111111,
              "#46039f"
             ],
             [
              0.2222222222222222,
              "#7201a8"
             ],
             [
              0.3333333333333333,
              "#9c179e"
             ],
             [
              0.4444444444444444,
              "#bd3786"
             ],
             [
              0.5555555555555556,
              "#d8576b"
             ],
             [
              0.6666666666666666,
              "#ed7953"
             ],
             [
              0.7777777777777778,
              "#fb9f3a"
             ],
             [
              0.8888888888888888,
              "#fdca26"
             ],
             [
              1,
              "#f0f921"
             ]
            ],
            "type": "surface"
           }
          ],
          "table": [
           {
            "cells": {
             "fill": {
              "color": "#EBF0F8"
             },
             "line": {
              "color": "white"
             }
            },
            "header": {
             "fill": {
              "color": "#C8D4E3"
             },
             "line": {
              "color": "white"
             }
            },
            "type": "table"
           }
          ]
         },
         "layout": {
          "annotationdefaults": {
           "arrowcolor": "#2a3f5f",
           "arrowhead": 0,
           "arrowwidth": 1
          },
          "autotypenumbers": "strict",
          "coloraxis": {
           "colorbar": {
            "outlinewidth": 0,
            "ticks": ""
           }
          },
          "colorscale": {
           "diverging": [
            [
             0,
             "#8e0152"
            ],
            [
             0.1,
             "#c51b7d"
            ],
            [
             0.2,
             "#de77ae"
            ],
            [
             0.3,
             "#f1b6da"
            ],
            [
             0.4,
             "#fde0ef"
            ],
            [
             0.5,
             "#f7f7f7"
            ],
            [
             0.6,
             "#e6f5d0"
            ],
            [
             0.7,
             "#b8e186"
            ],
            [
             0.8,
             "#7fbc41"
            ],
            [
             0.9,
             "#4d9221"
            ],
            [
             1,
             "#276419"
            ]
           ],
           "sequential": [
            [
             0,
             "#0d0887"
            ],
            [
             0.1111111111111111,
             "#46039f"
            ],
            [
             0.2222222222222222,
             "#7201a8"
            ],
            [
             0.3333333333333333,
             "#9c179e"
            ],
            [
             0.4444444444444444,
             "#bd3786"
            ],
            [
             0.5555555555555556,
             "#d8576b"
            ],
            [
             0.6666666666666666,
             "#ed7953"
            ],
            [
             0.7777777777777778,
             "#fb9f3a"
            ],
            [
             0.8888888888888888,
             "#fdca26"
            ],
            [
             1,
             "#f0f921"
            ]
           ],
           "sequentialminus": [
            [
             0,
             "#0d0887"
            ],
            [
             0.1111111111111111,
             "#46039f"
            ],
            [
             0.2222222222222222,
             "#7201a8"
            ],
            [
             0.3333333333333333,
             "#9c179e"
            ],
            [
             0.4444444444444444,
             "#bd3786"
            ],
            [
             0.5555555555555556,
             "#d8576b"
            ],
            [
             0.6666666666666666,
             "#ed7953"
            ],
            [
             0.7777777777777778,
             "#fb9f3a"
            ],
            [
             0.8888888888888888,
             "#fdca26"
            ],
            [
             1,
             "#f0f921"
            ]
           ]
          },
          "colorway": [
           "#636efa",
           "#EF553B",
           "#00cc96",
           "#ab63fa",
           "#FFA15A",
           "#19d3f3",
           "#FF6692",
           "#B6E880",
           "#FF97FF",
           "#FECB52"
          ],
          "font": {
           "color": "#2a3f5f"
          },
          "geo": {
           "bgcolor": "white",
           "lakecolor": "white",
           "landcolor": "#E5ECF6",
           "showlakes": true,
           "showland": true,
           "subunitcolor": "white"
          },
          "hoverlabel": {
           "align": "left"
          },
          "hovermode": "closest",
          "mapbox": {
           "style": "light"
          },
          "paper_bgcolor": "white",
          "plot_bgcolor": "#E5ECF6",
          "polar": {
           "angularaxis": {
            "gridcolor": "white",
            "linecolor": "white",
            "ticks": ""
           },
           "bgcolor": "#E5ECF6",
           "radialaxis": {
            "gridcolor": "white",
            "linecolor": "white",
            "ticks": ""
           }
          },
          "scene": {
           "xaxis": {
            "backgroundcolor": "#E5ECF6",
            "gridcolor": "white",
            "gridwidth": 2,
            "linecolor": "white",
            "showbackground": true,
            "ticks": "",
            "zerolinecolor": "white"
           },
           "yaxis": {
            "backgroundcolor": "#E5ECF6",
            "gridcolor": "white",
            "gridwidth": 2,
            "linecolor": "white",
            "showbackground": true,
            "ticks": "",
            "zerolinecolor": "white"
           },
           "zaxis": {
            "backgroundcolor": "#E5ECF6",
            "gridcolor": "white",
            "gridwidth": 2,
            "linecolor": "white",
            "showbackground": true,
            "ticks": "",
            "zerolinecolor": "white"
           }
          },
          "shapedefaults": {
           "line": {
            "color": "#2a3f5f"
           }
          },
          "ternary": {
           "aaxis": {
            "gridcolor": "white",
            "linecolor": "white",
            "ticks": ""
           },
           "baxis": {
            "gridcolor": "white",
            "linecolor": "white",
            "ticks": ""
           },
           "bgcolor": "#E5ECF6",
           "caxis": {
            "gridcolor": "white",
            "linecolor": "white",
            "ticks": ""
           }
          },
          "title": {
           "x": 0.05
          },
          "xaxis": {
           "automargin": true,
           "gridcolor": "white",
           "linecolor": "white",
           "ticks": "",
           "title": {
            "standoff": 15
           },
           "zerolinecolor": "white",
           "zerolinewidth": 2
          },
          "yaxis": {
           "automargin": true,
           "gridcolor": "white",
           "linecolor": "white",
           "ticks": "",
           "title": {
            "standoff": 15
           },
           "zerolinecolor": "white",
           "zerolinewidth": 2
          }
         }
        },
        "title": {
         "text": "Implied APYs (USD)"
        }
       }
      }
     },
     "metadata": {},
     "output_type": "display_data"
    }
   ],
   "source": [
    "# Create a line plot of implied APYs\n",
    "fig = go.Figure()\n",
    "\n",
    "fig.add_trace(go.Scatter(x=prices_df_jun.index, y=prices_df_jun['implied_apy_usd'], mode='lines', name='Jun'))\n",
    "fig.add_trace(go.Scatter(x=prices_df_sep.index, y=prices_df_sep['implied_apy_usd'], mode='lines', name='Sep'))\n",
    "fig.add_trace(go.Scatter(x=prices_df_dec.index, y=prices_df_dec['implied_apy_usd'], mode='lines', name='Dec'))\n",
    "\n",
    "# Set the title\n",
    "fig.update_layout(title='Implied APYs (USD)')\n",
    "\n",
    "# Show the plot\n",
    "fig.show()"
   ]
  },
  {
   "cell_type": "code",
   "execution_count": 31,
   "metadata": {},
   "outputs": [
    {
     "data": {
      "application/vnd.plotly.v1+json": {
       "config": {
        "plotlyServerURL": "https://plot.ly"
       },
       "data": [
        {
         "fill": "tozeroy",
         "mode": "lines",
         "name": "Jun",
         "type": "scatter",
         "x": [
          "2024-04-14T00:00:00",
          "2024-04-15T00:00:00",
          "2024-04-16T00:00:00",
          "2024-04-17T00:00:00",
          "2024-04-18T00:00:00",
          "2024-04-19T00:00:00",
          "2024-04-20T00:00:00",
          "2024-04-21T00:00:00",
          "2024-04-22T00:00:00",
          "2024-04-23T00:00:00",
          "2024-04-24T00:00:00",
          "2024-04-25T00:00:00",
          "2024-04-26T00:00:00",
          "2024-04-27T00:00:00",
          "2024-04-28T00:00:00",
          "2024-04-29T00:00:00",
          "2024-04-30T00:00:00",
          "2024-05-01T00:00:00",
          "2024-05-02T00:00:00",
          "2024-05-03T00:00:00",
          "2024-05-04T00:00:00",
          "2024-05-05T00:00:00",
          "2024-05-06T00:00:00",
          "2024-05-07T00:00:00",
          "2024-05-08T00:00:00",
          "2024-05-09T00:00:00",
          "2024-05-10T00:00:00",
          "2024-05-11T00:00:00",
          "2024-05-12T00:00:00",
          "2024-05-13T00:00:00",
          "2024-05-14T00:00:00",
          "2024-05-15T00:00:00",
          "2024-05-16T00:00:00",
          "2024-05-17T00:00:00",
          "2024-05-18T00:00:00",
          "2024-05-19T00:00:00",
          "2024-05-20T00:00:00",
          "2024-05-21T00:00:00",
          "2024-05-22T00:00:00",
          "2024-05-23T00:00:00",
          "2024-05-24T00:00:00",
          "2024-05-25T00:00:00",
          "2024-05-26T00:00:00",
          "2024-05-27T00:00:00",
          "2024-05-28T00:00:00",
          "2024-05-29T00:00:00",
          "2024-05-30T00:00:00",
          "2024-05-31T00:00:00",
          "2024-06-01T00:00:00",
          "2024-06-02T00:00:00",
          "2024-06-03T00:00:00",
          "2024-06-04T00:00:00",
          "2024-06-05T00:00:00",
          "2024-06-06T00:00:00",
          "2024-06-07T00:00:00",
          "2024-06-08T00:00:00"
         ],
         "y": [
          3281547728.1629577,
          3539215819.1413717,
          3524815020.35716,
          3518701458.670617,
          3419059041.1047726,
          3509715847.7724423,
          3590464310.246689,
          3673095740.11156,
          3677395089.089508,
          3806333206.615133,
          3861137840.266268,
          3795830828.8150826,
          3844869308.614656,
          3846242065.8919735,
          3993149641.896898,
          4081677510.35696,
          3995780320.290607,
          3786950343.9089065,
          3731502698.557896,
          3793823511.08395,
          3954021691.983081,
          3995510608.9105897,
          4013030200.703573,
          3982499588.353404,
          3989260660.492739,
          3865726051.8188887,
          3933041630.084234,
          3775145876.7318783,
          3805044214.7410994,
          3813873853.033197,
          4049838053.367979,
          3981237017.166937,
          4282695654.360383,
          4232509130.9078326,
          4478382302.925385,
          4521885865.058591,
          4480877681.370333,
          5309127940.65485,
          5506542891.386399,
          5493931844.769857,
          5555681588.687008,
          5531225049.328705,
          5609238342.875783,
          5795723716.63494,
          5930247759.909849,
          5927750828.29767,
          5855497361.020912,
          5917193523.245243,
          5994432985.051218,
          6087357789.488746,
          6051231515.792205,
          6114567589.126674,
          6377746407.771159,
          6485311721.934928,
          6441919796.204962,
          6381157083.530484
         ]
        }
       ],
       "layout": {
        "template": {
         "data": {
          "bar": [
           {
            "error_x": {
             "color": "#2a3f5f"
            },
            "error_y": {
             "color": "#2a3f5f"
            },
            "marker": {
             "line": {
              "color": "#E5ECF6",
              "width": 0.5
             },
             "pattern": {
              "fillmode": "overlay",
              "size": 10,
              "solidity": 0.2
             }
            },
            "type": "bar"
           }
          ],
          "barpolar": [
           {
            "marker": {
             "line": {
              "color": "#E5ECF6",
              "width": 0.5
             },
             "pattern": {
              "fillmode": "overlay",
              "size": 10,
              "solidity": 0.2
             }
            },
            "type": "barpolar"
           }
          ],
          "carpet": [
           {
            "aaxis": {
             "endlinecolor": "#2a3f5f",
             "gridcolor": "white",
             "linecolor": "white",
             "minorgridcolor": "white",
             "startlinecolor": "#2a3f5f"
            },
            "baxis": {
             "endlinecolor": "#2a3f5f",
             "gridcolor": "white",
             "linecolor": "white",
             "minorgridcolor": "white",
             "startlinecolor": "#2a3f5f"
            },
            "type": "carpet"
           }
          ],
          "choropleth": [
           {
            "colorbar": {
             "outlinewidth": 0,
             "ticks": ""
            },
            "type": "choropleth"
           }
          ],
          "contour": [
           {
            "colorbar": {
             "outlinewidth": 0,
             "ticks": ""
            },
            "colorscale": [
             [
              0,
              "#0d0887"
             ],
             [
              0.1111111111111111,
              "#46039f"
             ],
             [
              0.2222222222222222,
              "#7201a8"
             ],
             [
              0.3333333333333333,
              "#9c179e"
             ],
             [
              0.4444444444444444,
              "#bd3786"
             ],
             [
              0.5555555555555556,
              "#d8576b"
             ],
             [
              0.6666666666666666,
              "#ed7953"
             ],
             [
              0.7777777777777778,
              "#fb9f3a"
             ],
             [
              0.8888888888888888,
              "#fdca26"
             ],
             [
              1,
              "#f0f921"
             ]
            ],
            "type": "contour"
           }
          ],
          "contourcarpet": [
           {
            "colorbar": {
             "outlinewidth": 0,
             "ticks": ""
            },
            "type": "contourcarpet"
           }
          ],
          "heatmap": [
           {
            "colorbar": {
             "outlinewidth": 0,
             "ticks": ""
            },
            "colorscale": [
             [
              0,
              "#0d0887"
             ],
             [
              0.1111111111111111,
              "#46039f"
             ],
             [
              0.2222222222222222,
              "#7201a8"
             ],
             [
              0.3333333333333333,
              "#9c179e"
             ],
             [
              0.4444444444444444,
              "#bd3786"
             ],
             [
              0.5555555555555556,
              "#d8576b"
             ],
             [
              0.6666666666666666,
              "#ed7953"
             ],
             [
              0.7777777777777778,
              "#fb9f3a"
             ],
             [
              0.8888888888888888,
              "#fdca26"
             ],
             [
              1,
              "#f0f921"
             ]
            ],
            "type": "heatmap"
           }
          ],
          "heatmapgl": [
           {
            "colorbar": {
             "outlinewidth": 0,
             "ticks": ""
            },
            "colorscale": [
             [
              0,
              "#0d0887"
             ],
             [
              0.1111111111111111,
              "#46039f"
             ],
             [
              0.2222222222222222,
              "#7201a8"
             ],
             [
              0.3333333333333333,
              "#9c179e"
             ],
             [
              0.4444444444444444,
              "#bd3786"
             ],
             [
              0.5555555555555556,
              "#d8576b"
             ],
             [
              0.6666666666666666,
              "#ed7953"
             ],
             [
              0.7777777777777778,
              "#fb9f3a"
             ],
             [
              0.8888888888888888,
              "#fdca26"
             ],
             [
              1,
              "#f0f921"
             ]
            ],
            "type": "heatmapgl"
           }
          ],
          "histogram": [
           {
            "marker": {
             "pattern": {
              "fillmode": "overlay",
              "size": 10,
              "solidity": 0.2
             }
            },
            "type": "histogram"
           }
          ],
          "histogram2d": [
           {
            "colorbar": {
             "outlinewidth": 0,
             "ticks": ""
            },
            "colorscale": [
             [
              0,
              "#0d0887"
             ],
             [
              0.1111111111111111,
              "#46039f"
             ],
             [
              0.2222222222222222,
              "#7201a8"
             ],
             [
              0.3333333333333333,
              "#9c179e"
             ],
             [
              0.4444444444444444,
              "#bd3786"
             ],
             [
              0.5555555555555556,
              "#d8576b"
             ],
             [
              0.6666666666666666,
              "#ed7953"
             ],
             [
              0.7777777777777778,
              "#fb9f3a"
             ],
             [
              0.8888888888888888,
              "#fdca26"
             ],
             [
              1,
              "#f0f921"
             ]
            ],
            "type": "histogram2d"
           }
          ],
          "histogram2dcontour": [
           {
            "colorbar": {
             "outlinewidth": 0,
             "ticks": ""
            },
            "colorscale": [
             [
              0,
              "#0d0887"
             ],
             [
              0.1111111111111111,
              "#46039f"
             ],
             [
              0.2222222222222222,
              "#7201a8"
             ],
             [
              0.3333333333333333,
              "#9c179e"
             ],
             [
              0.4444444444444444,
              "#bd3786"
             ],
             [
              0.5555555555555556,
              "#d8576b"
             ],
             [
              0.6666666666666666,
              "#ed7953"
             ],
             [
              0.7777777777777778,
              "#fb9f3a"
             ],
             [
              0.8888888888888888,
              "#fdca26"
             ],
             [
              1,
              "#f0f921"
             ]
            ],
            "type": "histogram2dcontour"
           }
          ],
          "mesh3d": [
           {
            "colorbar": {
             "outlinewidth": 0,
             "ticks": ""
            },
            "type": "mesh3d"
           }
          ],
          "parcoords": [
           {
            "line": {
             "colorbar": {
              "outlinewidth": 0,
              "ticks": ""
             }
            },
            "type": "parcoords"
           }
          ],
          "pie": [
           {
            "automargin": true,
            "type": "pie"
           }
          ],
          "scatter": [
           {
            "fillpattern": {
             "fillmode": "overlay",
             "size": 10,
             "solidity": 0.2
            },
            "type": "scatter"
           }
          ],
          "scatter3d": [
           {
            "line": {
             "colorbar": {
              "outlinewidth": 0,
              "ticks": ""
             }
            },
            "marker": {
             "colorbar": {
              "outlinewidth": 0,
              "ticks": ""
             }
            },
            "type": "scatter3d"
           }
          ],
          "scattercarpet": [
           {
            "marker": {
             "colorbar": {
              "outlinewidth": 0,
              "ticks": ""
             }
            },
            "type": "scattercarpet"
           }
          ],
          "scattergeo": [
           {
            "marker": {
             "colorbar": {
              "outlinewidth": 0,
              "ticks": ""
             }
            },
            "type": "scattergeo"
           }
          ],
          "scattergl": [
           {
            "marker": {
             "colorbar": {
              "outlinewidth": 0,
              "ticks": ""
             }
            },
            "type": "scattergl"
           }
          ],
          "scattermapbox": [
           {
            "marker": {
             "colorbar": {
              "outlinewidth": 0,
              "ticks": ""
             }
            },
            "type": "scattermapbox"
           }
          ],
          "scatterpolar": [
           {
            "marker": {
             "colorbar": {
              "outlinewidth": 0,
              "ticks": ""
             }
            },
            "type": "scatterpolar"
           }
          ],
          "scatterpolargl": [
           {
            "marker": {
             "colorbar": {
              "outlinewidth": 0,
              "ticks": ""
             }
            },
            "type": "scatterpolargl"
           }
          ],
          "scatterternary": [
           {
            "marker": {
             "colorbar": {
              "outlinewidth": 0,
              "ticks": ""
             }
            },
            "type": "scatterternary"
           }
          ],
          "surface": [
           {
            "colorbar": {
             "outlinewidth": 0,
             "ticks": ""
            },
            "colorscale": [
             [
              0,
              "#0d0887"
             ],
             [
              0.1111111111111111,
              "#46039f"
             ],
             [
              0.2222222222222222,
              "#7201a8"
             ],
             [
              0.3333333333333333,
              "#9c179e"
             ],
             [
              0.4444444444444444,
              "#bd3786"
             ],
             [
              0.5555555555555556,
              "#d8576b"
             ],
             [
              0.6666666666666666,
              "#ed7953"
             ],
             [
              0.7777777777777778,
              "#fb9f3a"
             ],
             [
              0.8888888888888888,
              "#fdca26"
             ],
             [
              1,
              "#f0f921"
             ]
            ],
            "type": "surface"
           }
          ],
          "table": [
           {
            "cells": {
             "fill": {
              "color": "#EBF0F8"
             },
             "line": {
              "color": "white"
             }
            },
            "header": {
             "fill": {
              "color": "#C8D4E3"
             },
             "line": {
              "color": "white"
             }
            },
            "type": "table"
           }
          ]
         },
         "layout": {
          "annotationdefaults": {
           "arrowcolor": "#2a3f5f",
           "arrowhead": 0,
           "arrowwidth": 1
          },
          "autotypenumbers": "strict",
          "coloraxis": {
           "colorbar": {
            "outlinewidth": 0,
            "ticks": ""
           }
          },
          "colorscale": {
           "diverging": [
            [
             0,
             "#8e0152"
            ],
            [
             0.1,
             "#c51b7d"
            ],
            [
             0.2,
             "#de77ae"
            ],
            [
             0.3,
             "#f1b6da"
            ],
            [
             0.4,
             "#fde0ef"
            ],
            [
             0.5,
             "#f7f7f7"
            ],
            [
             0.6,
             "#e6f5d0"
            ],
            [
             0.7,
             "#b8e186"
            ],
            [
             0.8,
             "#7fbc41"
            ],
            [
             0.9,
             "#4d9221"
            ],
            [
             1,
             "#276419"
            ]
           ],
           "sequential": [
            [
             0,
             "#0d0887"
            ],
            [
             0.1111111111111111,
             "#46039f"
            ],
            [
             0.2222222222222222,
             "#7201a8"
            ],
            [
             0.3333333333333333,
             "#9c179e"
            ],
            [
             0.4444444444444444,
             "#bd3786"
            ],
            [
             0.5555555555555556,
             "#d8576b"
            ],
            [
             0.6666666666666666,
             "#ed7953"
            ],
            [
             0.7777777777777778,
             "#fb9f3a"
            ],
            [
             0.8888888888888888,
             "#fdca26"
            ],
            [
             1,
             "#f0f921"
            ]
           ],
           "sequentialminus": [
            [
             0,
             "#0d0887"
            ],
            [
             0.1111111111111111,
             "#46039f"
            ],
            [
             0.2222222222222222,
             "#7201a8"
            ],
            [
             0.3333333333333333,
             "#9c179e"
            ],
            [
             0.4444444444444444,
             "#bd3786"
            ],
            [
             0.5555555555555556,
             "#d8576b"
            ],
            [
             0.6666666666666666,
             "#ed7953"
            ],
            [
             0.7777777777777778,
             "#fb9f3a"
            ],
            [
             0.8888888888888888,
             "#fdca26"
            ],
            [
             1,
             "#f0f921"
            ]
           ]
          },
          "colorway": [
           "#636efa",
           "#EF553B",
           "#00cc96",
           "#ab63fa",
           "#FFA15A",
           "#19d3f3",
           "#FF6692",
           "#B6E880",
           "#FF97FF",
           "#FECB52"
          ],
          "font": {
           "color": "#2a3f5f"
          },
          "geo": {
           "bgcolor": "white",
           "lakecolor": "white",
           "landcolor": "#E5ECF6",
           "showlakes": true,
           "showland": true,
           "subunitcolor": "white"
          },
          "hoverlabel": {
           "align": "left"
          },
          "hovermode": "closest",
          "mapbox": {
           "style": "light"
          },
          "paper_bgcolor": "white",
          "plot_bgcolor": "#E5ECF6",
          "polar": {
           "angularaxis": {
            "gridcolor": "white",
            "linecolor": "white",
            "ticks": ""
           },
           "bgcolor": "#E5ECF6",
           "radialaxis": {
            "gridcolor": "white",
            "linecolor": "white",
            "ticks": ""
           }
          },
          "scene": {
           "xaxis": {
            "backgroundcolor": "#E5ECF6",
            "gridcolor": "white",
            "gridwidth": 2,
            "linecolor": "white",
            "showbackground": true,
            "ticks": "",
            "zerolinecolor": "white"
           },
           "yaxis": {
            "backgroundcolor": "#E5ECF6",
            "gridcolor": "white",
            "gridwidth": 2,
            "linecolor": "white",
            "showbackground": true,
            "ticks": "",
            "zerolinecolor": "white"
           },
           "zaxis": {
            "backgroundcolor": "#E5ECF6",
            "gridcolor": "white",
            "gridwidth": 2,
            "linecolor": "white",
            "showbackground": true,
            "ticks": "",
            "zerolinecolor": "white"
           }
          },
          "shapedefaults": {
           "line": {
            "color": "#2a3f5f"
           }
          },
          "ternary": {
           "aaxis": {
            "gridcolor": "white",
            "linecolor": "white",
            "ticks": ""
           },
           "baxis": {
            "gridcolor": "white",
            "linecolor": "white",
            "ticks": ""
           },
           "bgcolor": "#E5ECF6",
           "caxis": {
            "gridcolor": "white",
            "linecolor": "white",
            "ticks": ""
           }
          },
          "title": {
           "x": 0.05
          },
          "xaxis": {
           "automargin": true,
           "gridcolor": "white",
           "linecolor": "white",
           "ticks": "",
           "title": {
            "standoff": 15
           },
           "zerolinecolor": "white",
           "zerolinewidth": 2
          },
          "yaxis": {
           "automargin": true,
           "gridcolor": "white",
           "linecolor": "white",
           "ticks": "",
           "title": {
            "standoff": 15
           },
           "zerolinecolor": "white",
           "zerolinewidth": 2
          }
         }
        },
        "title": {
         "text": "TVL"
        }
       }
      }
     },
     "metadata": {},
     "output_type": "display_data"
    }
   ],
   "source": [
    "# Plot tvl\n",
    "fig = go.Figure()\n",
    "\n",
    "fig.add_trace(go.Scatter(x=prices_df_jun.index, y=prices_df_jun['tvl'], mode='lines', name='Jun', fill='tozeroy'))\n",
    "\n",
    "# Set the title\n",
    "fig.update_layout(title='TVL')"
   ]
  },
  {
   "cell_type": "code",
   "execution_count": 36,
   "metadata": {},
   "outputs": [
    {
     "data": {
      "image/png": "[encoded data removed]",
      "text/plain": [
       "<Figure size 1200x800 with 1 Axes>"
      ]
     },
     "metadata": {},
     "output_type": "display_data"
    },
    {
     "name": "stdout",
     "output_type": "stream",
     "text": [
      "Explained variance ratio: [0.62621896 0.24392457]\n",
      "                      PC1       PC2\n",
      "pt_open         -0.459126  0.048197\n",
      "yt_open          0.274954 -0.563529\n",
      "underlying_open -0.419346 -0.165750\n",
      "days_to_expiry   0.174396 -0.706887\n",
      "implied_apy_usd  0.312466  0.338015\n",
      "date_ordinal    -0.446448 -0.121787\n",
      "tvl             -0.458680 -0.154475\n"
     ]
    }
   ],
   "source": [
    "import pandas as pd\n",
    "import numpy as np\n",
    "import matplotlib.pyplot as plt\n",
    "import seaborn as sns\n",
    "from sklearn.decomposition import PCA\n",
    "from sklearn.preprocessing import StandardScaler\n",
    "from datetime import datetime\n",
    "\n",
    "# Assuming combined_df is already prepared with necessary columns\n",
    "\n",
    "# Prepare data for PCA\n",
    "features = ['pt_open', 'yt_open', 'underlying_open', 'days_to_expiry', 'implied_apy_usd', 'date_ordinal', 'tvl']\n",
    "x = combined_df[features].values\n",
    "x = StandardScaler().fit_transform(x)\n",
    "\n",
    "# Perform PCA\n",
    "pca = PCA(n_components=2)\n",
    "principalComponents = pca.fit_transform(x)\n",
    "combined_df['pca1'] = principalComponents[:, 0]\n",
    "combined_df['pca2'] = principalComponents[:, 1]\n",
    "\n",
    "# Get explained variance ratios\n",
    "explained_variance_ratio = pca.explained_variance_ratio_\n",
    "\n",
    "# Plot PCA results\n",
    "plt.figure(figsize=(12, 8))\n",
    "pca_plot = sns.scatterplot(x='pca1', y='pca2', hue='maturity', data=combined_df, palette='viridis', s=100, alpha=0.7)\n",
    "\n",
    "# # Add labels to the points\n",
    "# for i in range(len(combined_df)):\n",
    "#     pca_plot.text(combined_df['pca1'].iloc[i] + 0.02, combined_df['pca2'].iloc[i], combined_df.index[i].strftime('%Y-%m-%d'),\n",
    "#                   horizontalalignment='left', size='small', color='black', alpha=0.7)\n",
    "\n",
    "# Enhance the plot\n",
    "plt.title('PCA of Yield Token Data', fontsize=16)\n",
    "plt.xlabel(f'Principal Component 1 ({explained_variance_ratio[0]*100:.2f}% variance)', fontsize=14)\n",
    "plt.ylabel(f'Principal Component 2 ({explained_variance_ratio[1]*100:.2f}% variance)', fontsize=14)\n",
    "plt.legend(title='Maturity', title_fontsize='13', fontsize='11', loc='upper right')\n",
    "plt.grid(True)\n",
    "plt.show()\n",
    "\n",
    "# Explain variance\n",
    "print(\"Explained variance ratio:\", explained_variance_ratio)\n",
    "\n",
    "# Get the loadings (coefficients) of each feature for the principal components\n",
    "loadings = pd.DataFrame(pca.components_.T, columns=['PC1', 'PC2'], index=features)\n",
    "print(loadings)\n"
   ]
  },
  {
   "cell_type": "code",
   "execution_count": 33,
   "metadata": {},
   "outputs": [
    {
     "data": {
      "image/png": "[encoded data removed]",
      "text/plain": [
       "<Figure size 1000x800 with 2 Axes>"
      ]
     },
     "metadata": {},
     "output_type": "display_data"
    },
    {
     "data": {
      "image/png": "[encoded data removed]",
      "text/plain": [
       "<Figure size 1000x800 with 2 Axes>"
      ]
     },
     "metadata": {},
     "output_type": "display_data"
    },
    {
     "data": {
      "image/png": "[encoded data removed]",
      "text/plain": [
       "<Figure size 1000x800 with 2 Axes>"
      ]
     },
     "metadata": {},
     "output_type": "display_data"
    }
   ],
   "source": [
    "import numpy as np\n",
    "\n",
    "# Function to plot lower triangular correlation matrix\n",
    "def plot_lower_triangular_correlation_matrix(data, title):\n",
    "    correlation_matrix = data.corr()\n",
    "    mask = np.triu(np.ones_like(correlation_matrix, dtype=bool))\n",
    "\n",
    "    plt.figure(figsize=(10, 8))\n",
    "    sns.heatmap(correlation_matrix, mask=mask, annot=True, cmap='coolwarm', vmin=-1, vmax=1, linewidths=.5)\n",
    "    plt.title(title)\n",
    "    plt.show()\n",
    "\n",
    "# Calculate and plot lower triangular correlation matrix for Jun maturity\n",
    "plot_lower_triangular_correlation_matrix(prices_df_jun[['pt_open', 'yt_open', 'underlying_open', 'implied_apy_eth', 'days_to_expiry', 'tvl']], 'Correlation Matrix for Jun Maturity')\n",
    "\n",
    "# Calculate and plot lower triangular correlation matrix for Sep maturity\n",
    "plot_lower_triangular_correlation_matrix(prices_df_sep[['pt_open', 'yt_open', 'underlying_open', 'implied_apy_eth', 'days_to_expiry', 'tvl']], 'Correlation Matrix for Sep Maturity')\n",
    "\n",
    "# Calculate and plot lower triangular correlation matrix for Dec maturity\n",
    "plot_lower_triangular_correlation_matrix(prices_df_dec[['pt_open', 'yt_open', 'underlying_open', 'implied_apy_eth', 'days_to_expiry', 'tvl']], 'Correlation Matrix for Dec Maturity')\n",
    "\n"
   ]
  },
  {
   "cell_type": "code",
   "execution_count": 37,
   "metadata": {},
   "outputs": [
    {
     "name": "stdout",
     "output_type": "stream",
     "text": [
      "                 implied_apy_jun  implied_apy_sep  implied_apy_dec\n",
      "implied_apy_jun         1.000000         0.493010         0.483513\n",
      "implied_apy_sep         0.493010         1.000000         0.284172\n",
      "implied_apy_dec         0.483513         0.284172         1.000000\n"
     ]
    },
    {
     "data": {
      "image/png": "[encoded data removed]",
      "text/plain": [
       "<Figure size 800x600 with 2 Axes>"
      ]
     },
     "metadata": {},
     "output_type": "display_data"
    }
   ],
   "source": [
    "# Create a dataframe with implied APYs for different maturities\n",
    "apy_df = pd.DataFrame({\n",
    "    'implied_apy_jun': prices_df_jun['implied_apy_usd'],\n",
    "    'implied_apy_sep': prices_df_sep['implied_apy_usd'],\n",
    "    'implied_apy_dec': prices_df_dec['implied_apy_usd']\n",
    "}).dropna()\n",
    "\n",
    "# Calculate pairwise correlations\n",
    "tenor_correlations = apy_df.corr()\n",
    "print(tenor_correlations)\n",
    "\n",
    "# Plot correlation heatmap\n",
    "plt.figure(figsize=(8, 6))\n",
    "sns.heatmap(tenor_correlations, annot=True, cmap='coolwarm', vmin=-1, vmax=1, linewidths=.5)\n",
    "plt.title('Correlation Between Different Tenors')\n",
    "plt.show()\n"
   ]
  },
  {
   "cell_type": "code",
   "execution_count": 38,
   "metadata": {},
   "outputs": [
    {
     "name": "stderr",
     "output_type": "stream",
     "text": [
      "c:\\Python310\\lib\\site-packages\\seaborn\\axisgrid.py:118: UserWarning:\n",
      "\n",
      "The figure layout has changed to tight\n",
      "\n"
     ]
    },
    {
     "data": {
      "image/png": "[encoded data removed]",
      "text/plain": [
       "<Figure size 750x750 with 12 Axes>"
      ]
     },
     "metadata": {},
     "output_type": "display_data"
    }
   ],
   "source": [
    "# Pairplot to visualize relationships\n",
    "sns.pairplot(apy_df)\n",
    "plt.suptitle('Pairplot of Implied APYs for Different Tenors', y=1.02)\n",
    "plt.show()\n"
   ]
  },
  {
   "cell_type": "code",
   "execution_count": null,
   "metadata": {},
   "outputs": [],
   "source": []
  }
 ],
 "metadata": {
  "kernelspec": {
   "display_name": "Python 3",
   "language": "python",
   "name": "python3"
  },
  "language_info": {
   "codemirror_mode": {
    "name": "ipython",
    "version": 3
   },
   "file_extension": ".py",
   "mimetype": "text/x-python",
   "name": "python",
   "nbconvert_exporter": "python",
   "pygments_lexer": "ipython3",
   "version": "3.10.6"
  }
 },
 "nbformat": 4,
 "nbformat_minor": 2
}
